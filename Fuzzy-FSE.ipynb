{
 "cells": [
  {
   "cell_type": "markdown",
   "metadata": {},
   "source": [
    "# Fuzzy Framework for Speed Estimation\n",
    "### Bio-Bio and Maule Region in central Chile\n"
   ]
  },
  {
   "cell_type": "markdown",
   "metadata": {},
   "source": [
    "This is a frameworked developed for our study which is published in the ISPRS International Journal of Geo-Information.\n",
    "\n",
    "HERE will be the link to the article once it is published.\n"
   ]
  },
  {
   "cell_type": "code",
   "execution_count": null,
   "metadata": {},
   "outputs": [],
   "source": [
    "%pylab inline\n",
    "import numpy as np\n",
    "import skfuzzy as fuzz\n",
    "from skfuzzy import control as ctrl # for API example\n",
    "import psycopg2\n",
    "import matplotlib.pyplot as plt\n",
    "import matplotlib.ticker as ticker\n",
    "import time\n",
    "from mpl_toolkits.mplot3d import Axes3D  # Required for 3D plotting"
   ]
  },
  {
   "cell_type": "markdown",
   "metadata": {},
   "source": [
    "### Membership functions for Terrain\n",
    "\n",
    "Depending on the input values, the membership function for terrain can either be approximated using road slope or using the support points per kilometer.\n",
    "Either membership function can be used."
   ]
  },
  {
   "cell_type": "code",
   "execution_count": null,
   "metadata": {},
   "outputs": [],
   "source": [
    "### With Slope Percentage as Slope\n",
    "\n",
    "terrain = ctrl.Antecedent(np.arange(0, 101, 0.1), 'terrain')\n",
    "\n",
    "terrain['level'] = fuzz.trapmf(terrain.universe, [-1, -1, 2, 7])\n",
    "terrain['rolling'] = fuzz.trapmf(terrain.universe, [2, 7, 7, 20])\n",
    "terrain['mountainous'] = fuzz.trapmf(terrain.universe, [7, 20, 20, 40])\n",
    "terrain['steep'] = fuzz.trapmf(terrain.universe, [20, 40, 500, 500])\n",
    "terrain.view()\n",
    "\n",
    "terrain.defuzzify_method = 'centroid'"
   ]
  },
  {
   "cell_type": "code",
   "execution_count": null,
   "metadata": {},
   "outputs": [],
   "source": [
    "### With Support Points as Slope\n",
    "\n",
    "terrain = ctrl.Antecedent(np.arange(0, 20, 0.05), 'terrain')\n",
    "\n",
    "terrain['level'] = fuzz.trapmf(terrain.universe, [-1, -1, 1, 4])\n",
    "terrain['rolling'] = fuzz.trapmf(terrain.universe, [1, 4, 10, 12])\n",
    "terrain['mountainous'] = fuzz.trapmf(terrain.universe, [10, 12, 13, 15])\n",
    "terrain['steep'] = fuzz.trapmf(terrain.universe, [12, 15, 20, 20])\n",
    "terrain.view()\n",
    "axes = plt.gca()\n",
    "axes.set_xlim([0,15])\n",
    "\n",
    "terrain.defuzzify_method = 'centroid'"
   ]
  },
  {
   "cell_type": "markdown",
   "metadata": {},
   "source": [
    "### Membership function for link length"
   ]
  },
  {
   "cell_type": "code",
   "execution_count": null,
   "metadata": {},
   "outputs": [],
   "source": [
    "length = ctrl.Antecedent(np.arange(0, 40000, 1), 'length')\n",
    "\n",
    "length['very short'] = fuzz.trapmf(length.universe, [-1, -1, 200, 500])\n",
    "length['short'] = fuzz.trapmf(length.universe, [200, 500, 500, 1000])\n",
    "length['medium'] = fuzz.trapmf(length.universe, [500, 1500, 1500, 4000])\n",
    "length['long'] = fuzz.trapmf(length.universe, [1500, 4000, 4000, 10000])\n",
    "length['very long'] = fuzz.trapmf(length.universe, [4000, 10000, 100000, 100000])\n",
    "length.view()\n",
    "axes = plt.gca()\n",
    "axes.set_xlim([0,10000])\n",
    "\n",
    "length.defuzzify_method = 'centroid'"
   ]
  },
  {
   "cell_type": "markdown",
   "metadata": {},
   "source": [
    "### Defining the membership functions for the different road classes \n",
    "The membership functions have to be designed using expert knowledge about the study region. Values have to be inserted where 'INSERTVALUE' is written.\n",
    "For reference see the two application examples for the Biobio and Maule regions and for north New South Wales."
   ]
  },
  {
   "cell_type": "code",
   "execution_count": null,
   "metadata": {},
   "outputs": [],
   "source": [
    "### Membership Funktions for velocity -- different classes\n",
    "## Motorway\n",
    "velocity[0]['slow'] = fuzz.trapmf(velocity[0].universe, ['INSERTVALUE', 'INSERTVALUE', 'INSERTVALUE', 'INSERTVALUE'])\n",
    "velocity[0]['medium'] = fuzz.trapmf(velocity[0].universe, ['INSERTVALUE', 'INSERTVALUE', 'INSERTVALUE', 'INSERTVALUE'])\n",
    "velocity[0]['fast'] = fuzz.trapmf(velocity[0].universe, ['INSERTVALUE', 'INSERTVALUE', 'INSERTVALUE', 'INSERTVALUE'])\n",
    "\n",
    "## Trunk\n",
    "velocity[1]['slow'] = fuzz.trapmf(velocity[1].universe, ['INSERTVALUE', 'INSERTVALUE', 'INSERTVALUE', 'INSERTVALUE'])\n",
    "velocity[1]['medium'] = fuzz.trapmf(velocity[1].universe, ['INSERTVALUE', 'INSERTVALUE', 'INSERTVALUE', 'INSERTVALUE'])\n",
    "velocity[1]['fast'] = fuzz.trapmf(velocity[1].universe, ['INSERTVALUE', 'INSERTVALUE', 'INSERTVALUE', 'INSERTVALUE'])\n",
    "\n",
    "## Primary paved\n",
    "velocity[2]['slow'] = fuzz.trapmf(velocity[2].universe, ['INSERTVALUE', 'INSERTVALUE', 'INSERTVALUE', 'INSERTVALUE'])\n",
    "velocity[2]['medium'] = fuzz.trapmf(velocity[2].universe, ['INSERTVALUE', 'INSERTVALUE', 'INSERTVALUE', 'INSERTVALUE'])\n",
    "velocity[2]['fast'] = fuzz.trapmf(velocity[2].universe, ['INSERTVALUE', 'INSERTVALUE', 'INSERTVALUE', 'INSERTVALUE'])\n",
    "\n",
    "## Primary unpaved\n",
    "velocity[3]['slow'] = fuzz.trapmf(velocity[3].universe, ['INSERTVALUE', 'INSERTVALUE', 'INSERTVALUE', 'INSERTVALUE'])\n",
    "velocity[3]['medium'] = fuzz.trapmf(velocity[3].universe, ['INSERTVALUE', 'INSERTVALUE', 'INSERTVALUE', 'INSERTVALUE'])\n",
    "velocity[3]['fast'] = fuzz.trapmf(velocity[3].universe, ['INSERTVALUE', 'INSERTVALUE', 'INSERTVALUE', 'INSERTVALUE'])\n",
    "\n",
    "## Secondary paved\n",
    "velocity[4]['slow'] = fuzz.trapmf(velocity[4].universe, ['INSERTVALUE', 'INSERTVALUE', 'INSERTVALUE', 'INSERTVALUE'])\n",
    "velocity[4]['medium'] = fuzz.trapmf(velocity[4].universe, ['INSERTVALUE', 'INSERTVALUE', 'INSERTVALUE', 'INSERTVALUE'])\n",
    "velocity[4]['fast'] = fuzz.trapmf(velocity[4].universe, ['INSERTVALUE', 'INSERTVALUE', 'INSERTVALUE', 'INSERTVALUE'])\n",
    "\n",
    "## Secondary unpaved\n",
    "velocity[5]['slow'] = fuzz.trapmf(velocity[5].universe, ['INSERTVALUE', 'INSERTVALUE', 'INSERTVALUE', 'INSERTVALUE'])\n",
    "velocity[5]['medium'] = fuzz.trapmf(velocity[5].universe, ['INSERTVALUE', 'INSERTVALUE', 'INSERTVALUE', 'INSERTVALUE'])\n",
    "velocity[5]['fast'] = fuzz.trapmf(velocity[5].universe, ['INSERTVALUE', 'INSERTVALUE', 'INSERTVALUE', 'INSERTVALUE'])\n",
    "\n",
    "## Tertiary paved\n",
    "velocity[6]['slow'] = fuzz.trapmf(velocity[6].universe, ['INSERTVALUE', 'INSERTVALUE', 'INSERTVALUE', 'INSERTVALUE'])\n",
    "velocity[6]['medium'] = fuzz.trapmf(velocity[6].universe, ['INSERTVALUE', 'INSERTVALUE', 'INSERTVALUE', 'INSERTVALUE'])\n",
    "velocity[6]['fast'] = fuzz.trapmf(velocity[6].universe, ['INSERTVALUE', 'INSERTVALUE', 'INSERTVALUE', 'INSERTVALUE'])\n",
    "\n",
    "## Tertiary unpaved\n",
    "velocity[7]['slow'] = fuzz.trapmf(velocity[7].universe, ['INSERTVALUE', 'INSERTVALUE', 'INSERTVALUE', 'INSERTVALUE'])\n",
    "velocity[7]['medium'] = fuzz.trapmf(velocity[7].universe, ['INSERTVALUE', 'INSERTVALUE', 'INSERTVALUE', 'INSERTVALUE'])\n",
    "velocity[7]['fast'] = fuzz.trapmf(velocity[7].universe, ['INSERTVALUE', 'INSERTVALUE', 'INSERTVALUE', 'INSERTVALUE'])\n",
    "\n",
    "## Unclassified paved\n",
    "velocity[8]['slow'] = fuzz.trapmf(velocity[8].universe, ['INSERTVALUE', 'INSERTVALUE', 'INSERTVALUE', 'INSERTVALUE'])\n",
    "velocity[8]['medium'] = fuzz.trapmf(velocity[8].universe, ['INSERTVALUE', 'INSERTVALUE', 'INSERTVALUE', 'INSERTVALUE'])\n",
    "velocity[8]['fast'] = fuzz.trapmf(velocity[8].universe, ['INSERTVALUE', 'INSERTVALUE', 'INSERTVALUE', 'INSERTVALUE'])\n",
    "\n",
    "## Unclassified unpaved\n",
    "velocity[9]['slow'] = fuzz.trapmf(velocity[9].universe, ['INSERTVALUE', 'INSERTVALUE', 'INSERTVALUE', 'INSERTVALUE'])\n",
    "velocity[9]['medium'] = fuzz.trapmf(velocity[9].universe, ['INSERTVALUE', 'INSERTVALUE', 'INSERTVALUE', 'INSERTVALUE'])\n",
    "velocity[9]['fast'] = fuzz.trapmf(velocity[9].universe, ['INSERTVALUE', 'INSERTVALUE', 'INSERTVALUE', 'INSERTVALUE'])\n",
    "\n",
    "\n",
    "#plt.subplot(6, 1, 1)\n",
    "velocity[0].view()\n",
    "velocity[1].view()\n",
    "velocity[2].view()\n",
    "velocity[3].view()\n",
    "velocity[4].view()\n",
    "velocity[5].view()\n",
    "velocity[6].view()\n",
    "velocity[7].view()\n",
    "velocity[8].view()\n",
    "velocity[9].view()"
   ]
  },
  {
   "cell_type": "markdown",
   "metadata": {},
   "source": [
    "### Definition of the rule base for the Fuzzy Control System"
   ]
  },
  {
   "cell_type": "code",
   "execution_count": null,
   "metadata": {},
   "outputs": [],
   "source": [
    "## Fuzzy Ruleset\n",
    "ruleset = [[],[],[],[],[],[],[],[],[],[]]\n",
    "for i in range(10):\n",
    "    # very long\n",
    "    ruleset[i].append(ctrl.Rule(terrain['level'] & length['very long'], velocity[i]['fast']))\n",
    "    ruleset[i].append(ctrl.Rule(terrain['rolling'] & length['very long'], consequent = (velocity[i]['fast'], velocity[i]['medium'])))\n",
    "    ruleset[i].append(ctrl.Rule(terrain['mountainous'] & length['very long'], velocity[i]['medium']))\n",
    "    ruleset[i].append(ctrl.Rule(terrain['steep'] & length['very long'], consequent = (velocity[i]['medium'], velocity[i]['slow'])))\n",
    "    \n",
    "    # long\n",
    "    ruleset[i].append(ctrl.Rule(terrain['level'] & length['long'], consequent = (velocity[i]['fast']%0.6, velocity[i]['medium']%0.4)))\n",
    "    ruleset[i].append(ctrl.Rule(terrain['rolling'] & length['long'], consequent = (velocity[i]['fast']%0.2, velocity[i]['medium']%0.8)))\n",
    "    ruleset[i].append(ctrl.Rule(terrain['mountainous'] & length['long'], consequent = (velocity[i]['medium']%0.9, velocity[i]['slow']%0.1)))\n",
    "    ruleset[i].append(ctrl.Rule(terrain['steep'] & length['long'], consequent = (velocity[i]['medium']%0.4, velocity[i]['slow']%0.6)))\n",
    "\n",
    "    # medium\n",
    "    ruleset[i].append(ctrl.Rule(terrain['level'] & length['medium'], consequent = (velocity[i]['fast']%0.4, velocity[i]['medium']%0.6)))\n",
    "    ruleset[i].append(ctrl.Rule(terrain['rolling'] & length['medium'], consequent = (velocity[i]['fast']%0.1, velocity[i]['medium']%0.9)))\n",
    "    ruleset[i].append(ctrl.Rule(terrain['mountainous'] & length['medium'], consequent = (velocity[i]['medium']%0.6, velocity[i]['slow']%0.4)))\n",
    "    ruleset[i].append(ctrl.Rule(terrain['steep'] & length['medium'], consequent = (velocity[i]['medium']%0.1, velocity[i]['slow']%0.9)))\n",
    "    \n",
    "    # short\n",
    "    ruleset[i].append(ctrl.Rule(terrain['level'] & length['short'], consequent = (velocity[i]['fast']%0.2, velocity[i]['medium']%0.8)))\n",
    "    ruleset[i].append(ctrl.Rule(terrain['rolling'] & length['short'], consequent = (velocity[i]['medium']%0.7, velocity[i]['slow']%0.3)))\n",
    "    ruleset[i].append(ctrl.Rule(terrain['mountainous'] & length['short'], consequent = (velocity[i]['medium']%0.3, velocity[i]['slow']%0.8)))\n",
    "    ruleset[i].append(ctrl.Rule(terrain['steep'] & length['short'], velocity[i]['slow']))\n",
    "\n",
    "    # very short\n",
    "    ruleset[i].append(ctrl.Rule(terrain['level'] & length['very short'], velocity[i]['medium']))\n",
    "    ruleset[i].append(ctrl.Rule(terrain['rolling'] & length['very short'], consequent = (velocity[i]['medium'], velocity[i]['slow'])))\n",
    "    ruleset[i].append(ctrl.Rule(terrain['mountainous'] & length['very short'], velocity[i]['slow']))\n",
    "    ruleset[i].append(ctrl.Rule(terrain['steep'] & length['very short'], velocity[i]['slow']))"
   ]
  },
  {
   "cell_type": "code",
   "execution_count": null,
   "metadata": {},
   "outputs": [],
   "source": [
    "velocity_calc = []\n",
    "for i in range(10):\n",
    "    velocity_calc.append(ctrl.ControlSystemSimulation(ctrl.ControlSystem(ruleset[i])))"
   ]
  },
  {
   "cell_type": "markdown",
   "metadata": {},
   "source": [
    "### Database connection\n",
    "\n",
    "The roads are administrated in a pgsql database. The Fuzzy-FSE is applied to estimate speed values, then the values are inserted in the database.\n",
    "\n",
    "The FCS need the input parameters road class, road surface, link length and road slope.\n",
    "\n",
    "To input the data from a csv file the code in the next two lines must be altered to import from the csv file. "
   ]
  },
  {
   "cell_type": "code",
   "execution_count": null,
   "metadata": {},
   "outputs": [],
   "source": [
    "## Database parameters\n",
    "host = 'xxx'\n",
    "port = 'xxx'\n",
    "database = 'xxx'\n",
    "user = 'xxx'\n",
    "pw = 'xxx'\n",
    "region = '_bm'\n",
    "ways_table = 'ways' + region"
   ]
  },
  {
   "cell_type": "code",
   "execution_count": null,
   "metadata": {},
   "outputs": [],
   "source": [
    "## Fetching the ways table\n",
    "conn = psycopg2.connect(\"host='\" + host + \"' port='\" + port + \"' dbname='\" + database + \"' user='\" + user + \"' password='\" + pw + \"'\")\n",
    "cur = conn.cursor()\n",
    "cur.execute('SELECT ' + ways_table + '.gid, ' + ## = Unique identifier of the object\n",
    "            ' ' + ways_table + '.class_id, ' + ## = Road class id\n",
    "            ' ' + ways_table + '.surf_val, ' + ## = Surface Value\n",
    "            ' ' + ways_table + '.length_m, ' + ## = Length of the link\n",
    "            ' ' + ways_table + '.nnsw_slope ' + ## = Road slope\n",
    "            ' FROM ' + ways_table) \n",
    "ways = cur.fetchall()\n",
    "cur.close()\n",
    "conn.close()\n"
   ]
  },
  {
   "cell_type": "code",
   "execution_count": null,
   "metadata": {},
   "outputs": [],
   "source": [
    "## Defining the class ids and surface values\n",
    "id_motorway = 101\n",
    "id_motorwaylink = 102\n",
    "id_trunk = 103\n",
    "id_trunklink = 104\n",
    "id_primary = 105\n",
    "id_primarylink = 106\n",
    "id_secondary = 107\n",
    "id_secondarylink = 108\n",
    "id_tertiary = 109\n",
    "id_tertiarylink = 110\n",
    "id_unclassified = 111\n",
    "\n",
    "paved = \"paved\"\n",
    "unpaved = \"unpaved\"\n",
    "nosurf = \"NULL\""
   ]
  },
  {
   "cell_type": "code",
   "execution_count": null,
   "metadata": {},
   "outputs": [],
   "source": [
    "## Rulebased fetching of the FCS\n",
    "tic = time.time()\n",
    "results = []\n",
    "\n",
    "for item in ways:\n",
    "    # Motorways\n",
    "    if item[1] == id_motorway or item[1] == id_motorwaylink:\n",
    "        velocity_calc[0].input['terrain'] = item[4]\n",
    "        velocity_calc[0].input['length'] = item[3]\n",
    "        velocity_calc[0].compute()\n",
    "        results.append(item + (velocity_calc[0].output['velocity_mw'],))\n",
    "    # Trunk\n",
    "    elif item[1] == id_trunk or item[1] == id_trunklink:\n",
    "        velocity_calc[1].input['terrain'] = item[4]\n",
    "        velocity_calc[1].input['length'] = item[3]\n",
    "        velocity_calc[1].compute()\n",
    "        results.append(item + (velocity_calc[1].output['velocity_tr'],))\n",
    "    # Primary paved\n",
    "    elif (item[1] == id_primary or item[1] == id_primarylink) and (item[2] == paved or item[2]== nosurf): # Default: if no surface value: assumed paved\n",
    "        velocity_calc[2].input['terrain'] = item[4]\n",
    "        velocity_calc[2].input['length'] = item[3]\n",
    "        velocity_calc[2].compute()\n",
    "        results.append(item + (velocity_calc[2].output['velocity_pr-pv'],))\n",
    "    # Primary unpaved\n",
    "    elif (item[1] == id_primary or item[1] == id_primarylink) and item[2] == unpaved: # Default: if no surface value: assumed paved\n",
    "        velocity_calc[3].input['terrain'] = item[4]\n",
    "        velocity_calc[3].input['length'] = item[3]\n",
    "        velocity_calc[3].compute()\n",
    "        results.append(item + (velocity_calc[3].output['velocity_pr-up'],))\n",
    "    # Secondary paved\n",
    "    elif (item[1] == id_secondary or item[1] == id_secondarylink) and (item[2] == paved or item[2]== nosurf): # Default: if no surface value: assumed paved\n",
    "        velocity_calc[4].input['terrain'] = item[4]\n",
    "        velocity_calc[4].input['length'] = item[3]\n",
    "        velocity_calc[4].compute()\n",
    "        results.append(item + (velocity_calc[4].output['velocity_sc-pv'],))\n",
    "    # Secondary unpaved\n",
    "    elif (item[1] == id_secondary or item[1] == id_secondarylink) and item[2] == unpaved: # Default: if no surface value: assumed paved\n",
    "        velocity_calc[5].input['terrain'] = item[4]\n",
    "        velocity_calc[5].input['length'] = item[3]\n",
    "        velocity_calc[5].compute()\n",
    "        results.append(item + (velocity_calc[5].output['velocity_sc-up'],))\n",
    "    # Tertiary paved\n",
    "    elif (item[1] == id_tertiary or item[1] == id_tertiarylink) and (item[2] == paved): # Default: if no surface value: assumed unpaved\n",
    "        velocity_calc[6].input['terrain'] = item[4]\n",
    "        velocity_calc[6].input['length'] = item[3]\n",
    "        velocity_calc[6].compute()\n",
    "        results.append(item + (velocity_calc[6].output['velocity_ty-pv'],))\n",
    "    # Tertiary unpaved\n",
    "    elif (item[1] == id_tertiary or item[1] == id_tertiarylink) and (item[2] == unpaved or item[2] == nosurf): # Default: if no surface value: assumed unpaved\n",
    "        velocity_calc[7].input['terrain'] = item[4]\n",
    "        velocity_calc[7].input['length'] = item[3]\n",
    "        velocity_calc[7].compute()\n",
    "        results.append(item + (velocity_calc[7].output['velocity_ty-up'],))\n",
    "    # Unclassified paved\n",
    "    elif (item[1] == id_unclassified) and (item[2] == paved): # Default: if no surface value: assumed unpaved\n",
    "        velocity_calc[8].input['terrain'] = item[4]\n",
    "        velocity_calc[8].input['length'] = item[3]\n",
    "        velocity_calc[8].compute()\n",
    "        results.append(item + (velocity_calc[8].output['velocity_uc-pv'],))\n",
    "    # Unclassified unpaved\n",
    "    elif (item[1] == id_unclassified) and (item[2] == unpaved or item[2] == nosurf): # Default: if no surface value: assumed unpaved\n",
    "        velocity_calc[9].input['terrain'] = item[4]\n",
    "        velocity_calc[9].input['length'] = item[3]\n",
    "        velocity_calc[9].compute()\n",
    "        results.append(item + (velocity_calc[9].output['velocity_uc-up'],))\n",
    "\n",
    "toc = time.time() \n",
    "print('Fetching the FCS took ' + str(toc-tic) + ' seconds ('+ str((toc-tic)/60) + ' minutes)')"
   ]
  }
 ],
 "metadata": {
  "kernelspec": {
   "display_name": "Python 3",
   "language": "python",
   "name": "python3"
  },
  "language_info": {
   "codemirror_mode": {
    "name": "ipython",
    "version": 3
   },
   "file_extension": ".py",
   "mimetype": "text/x-python",
   "name": "python",
   "nbconvert_exporter": "python",
   "pygments_lexer": "ipython3",
   "version": "3.7.3"
  }
 },
 "nbformat": 4,
 "nbformat_minor": 2
}
